{
 "cells": [
  {
   "cell_type": "markdown",
   "metadata": {},
   "source": [
    "# Publications markdown generator for academicpages\n",
    "\n",
    "Takes a TSV of publications with metadata and converts them for use with [academicpages.github.io](academicpages.github.io). This is an interactive Jupyter notebook ([see more info here](http://jupyter-notebook-beginner-guide.readthedocs.io/en/latest/what_is_jupyter.html)). The core python code is also in `publications.py`. Run either from the `markdown_generator` folder after replacing `publications.tsv` with one containing your data.\n",
    "\n",
    "TODO: Make this work with BibTex and other databases of citations, rather than Stuart's non-standard TSV format and citation style.\n"
   ]
  },
  {
   "cell_type": "markdown",
   "metadata": {},
   "source": [
    "## Data format\n",
    "\n",
    "The TSV needs to have the following columns: pub_date, title, venue, excerpt, citation, site_url, and paper_url, with a header at the top. \n",
    "\n",
    "- `excerpt` and `paper_url` can be blank, but the others must have values. \n",
    "- `pub_date` must be formatted as YYYY-MM-DD.\n",
    "- `url_slug` will be the descriptive part of the .md file and the permalink URL for the page about the paper. The .md file will be `YYYY-MM-DD-[url_slug].md` and the permalink will be `https://[yourdomain]/publications/YYYY-MM-DD-[url_slug]`\n",
    "\n",
    "This is how the raw file looks (it doesn't look pretty, use a spreadsheet or other program to edit and create)."
   ]
  },
  {
   "cell_type": "code",
   "execution_count": 7,
   "metadata": {},
   "outputs": [
    {
     "name": "stdout",
     "output_type": "stream",
     "text": [
      "pub_date\ttitle\tvenue\texcerpt\tcitation\turl_slug\tpaper_url\n",
      "1/4/2020\tImpact of climate change on water availability and its propagation through the Western U.S. power grid\tApplied Energy\tThis paper evaluates how projected changes in water availability affect electricity generation at hydroelectric and thermal power plants and how the coincident impacts propagate locally and throughout the interconnected power grid of western United States\t\tAE-power-grid\thttps://doi.org/10.1016/j.apenergy.2020.115467\n",
      "1/3/2020\tThe DOE E3SM v1. 1 biogeochemistry configuration: description and simulated ecosystem_climate responses to historical changes in forcing\tJournal of Advances in Modeling Earth Systems\t\"This paper documents the biogeochemistry configuration of the Energy Exascale Earth System Model (E3SM), E3SMv1.1_BGC. The model simulates historical carbon cycle dynamics, including carbon losses predicted in response to land use and land cover change, and the responses of the carbon cycle to changes in climate\"\t\tE3SM-BGC\thttps://doi.org/10.1029/2019MS001766\n",
      "1/2/2020\t\"Global irrigation characteristics and effects simulated by fully coupled land surface, river, and water management models in E3SM\"\tJournal of Advances in Modeling Earth Systems\t\"This paper introduces a two_way coupled irrigation scheme developed within the Energy Exascale Earth System Model (E3SM). The new irrigation scheme simulates irrigation water demand and applies irrigation water in E3SM Land Model (ELM), which is coupled to a river routing model and a water management model (MOSART_WM) that simulate streamflow, reservoir operations, and irrigation water supply\"\t\tE3SM-irrigation\thttps://doi.org/10.1029/2020MS002069\n",
      "1/1/2020\tThe Straightening of a River Meander Leads to Extensive Losses in Flow Complexity and Ecosystem Services\tWater\tThis paper was the last chapter of my PhD dissertation. We made a few attempts to publish the work and finally got accepted by Water. This study investigates the meander hydrodynamic changes with regard to the channel curvature\t\tWater-ESF-flume\thttps://doi.org/10.3390/w12061680\n",
      "1/1/2019\tRoles of irrigation and reservoir operations in modulating terrestrial water budgets in the Indian sub-continental river basins\tJournal of Geophysical Research: Atmosphere\tThis paper examines water management impact over Indian basins using VIC-IRR model combined with reservoir scheme\t\tJGR-Indian-VIC-IRR-Reservoir\thttps://doi.org/10.1029/2019MS001870\n",
      "1/2/2019\tThe DOE E3SM coupled model version 1: Description and results at high resolution\tJournal of Advances in Modeling Earth Systems\tThis paper overviews E3SM V1 at high resolution configuration\t\tJAMES-E3SM-overview-high-resolution\thttps://doi.org/10.1029/2019MS001870\n",
      "1/3/2019\tFlood Inundation Generation Mechanisms and Their Changes in 1953?2004 in Global Major River Basins.\tJournal of Geophysics Research: Atmospheres \tThis paper used MOSART-inundation to investigate global flood characteristics and the shift of flood generating factors over 50 year period\t\tJGR-Flood-Inundation\thttps://doi.org/10.1029/2019JD031381\n",
      "1/4/2019\tThe DOE E3SM Coupled Model Version 1: Overview and Evaluation at Standard Resolution\tJournal of Advances in Modeling Earth Systems\tThis paper overviews E3SM V1 at standard resolution configuration\t\"Golaz, J. C., Caldwell, P. M., Van Roekel, L. P., Petersen, M. R., Tang, Q., Wolfe, J. D., ... & Baldwin, S. A. (2019). The DOE E3SM coupled model version 1: Overview and evaluation at standard resolution. Journal of Advances in Modeling Earth Systems, 11(7), 2089-2129.\"\tJAMES-E3SM-overview\thttps://doi.org/10.1029/2018MS001603\n",
      "1/5/2019\tStrong influence of irrigation on water budget and land surface temperature in Indian sub-continental river basins\tJournal of Geophysical Research: Atmospheres\tThis paper examines irrigation impacts over Indian basins\t\tJGR-Indian-VIC-IRR\thttps://doi.org/10.1029/2018JD029132\n",
      "1/1/2018\tModulating factors of hydrologic exchanges in a large-scale river reach: insights from three-dimensional computational fluid dynamics simulations\tHydrological Processes \tThis paper investigates the major control factors of hydrologic exchange in a 7km Columbia River reach\t\tHP-Columbia-River-CFD\thttps://doi.org/10.1002/hyp.13266\n",
      "1/2/2018\tNon-stationary hydropower generation projections constrained by environmental and electricity grid operations over the western United States\tEnvironmental Research Letters\tThis paper compares process-based model predictions with simple regression results in terms of future hydropower generation\t\tERL-Hydropower\thttps://doi.org/10.1088/1748-9326/aad19f\n",
      "1/3/2018\tEvaluating the functionality and streamflow impacts of explicitly modeling forest?snow interactions and canopy gaps in a distributed hydrologic model\tHydrological Processes \tThis paper examines the effect of forest gaps on snow processes\t\tHP-Snow-Gap\thttps://doi.org/10.1002/hyp.13150\n",
      "1/4/2018\tRiverbed hydrologic exchange dynamics in a large regulated river reach\tWater Resources Research \tThis paper examines how upstream dam operations controls downstream hydrologic exchange patterns\t\tWRR-Columbia-River-CFD\thttps://doi.org/10.1002/2017WR020508\n",
      "1/5/2018\tSensitivity of regulated flow regime to climate change in the Western United States\tJournal of Hydrometeorology \tThis paper compares the regulated flow and natural flow patterns in western U.S.\t\tJHM-West-US-WM\thttps://doi.org/10.1175/JHM-D-17-0095.1\n",
      "1/6/2018\tEvapotranspiration simulations in ISIMIP2a - Evaluation of spatio-temporal characteristics with a comprehensive ensemble of independent datasets\tEnvironmental Research Letters\tThis paper describes the ET results from ISI-MIP simulations\t\tISIMIP\thttps://iopscience.iop.org/article/10.1088/1748-9326/aac4bb\n",
      "1/7/2018\tA Climate Data Record (CDR) for the global terrestrial water budget: 1984–2010\tHydrology and Earth System Sciences\tThis paper describes a dataset about global terrestrial water budget variables\t\tCDR\thttps://doi.org/10.5194/hess-22-241-2018\n",
      "1/1/2017\tCoupling a three-dimensional subsurface flow and transport model with a land surface model to simulate stream-aquifer-land interactions (CP v1.0). \tGeoscientific Model Development\tThis paper is about coupling CLM and PFLOTRAN\t\tGMD-CLM-PFLOTRAN\thttps://doi.org/10.5194/gmd-10-4539-2017\n",
      "1/2/2017\tA New Approach to Quantify Shallow Water Hydrologic Exchanges in a Large Regulated River Reach\tWater\tThis paper uses streambed temperature to predict vertical hydrologic exchange rate in Columbia River\t\tWater-iButton\thttps://doi.org/10.3390/w9090703\n",
      "1/3/2017\tUnderstanding and seasonal forecasting of hydrological drought in the Anthropocene\tHydrology and Earth System Sciences\tThis paper discusses drought events in Yellow River basin\t\tYellow-River-drought\thttps://doi.org/10.5194/hess-21-5477-2017\n",
      "1/4/2017\tOpportunities for joint water-energy management: sensitivity of the 2010 Western U.S. electricity grid operations to climate oscillations\tBulletin of the American Meteorological Society\tThis paper assesses the vulnerability of the current western U.S. grid to historical climate variability using multiple energy and water system models\t\tBAMS\thttps://doi.org/10.1175/BAMS-D-16-0253.1\n",
      "1/1/2016\tThe contribution of reservoirs to global land surface water storage variations\tJournal of Hydrometeorology\t\"This study investigates human-induced water storage (reservoirs) variation and compares it with natural variations (SWE, soil moisture)\"\t\tJHM-VIC-Reservoir\thttps://doi.org/10.1175/JHM-D-15-0002.1\n",
      "1/2/2016\tHuman induced changes in the global water cycle\tTerrestrial Water Cycle and Climate Change: Natural and Human-Induced Impacts; Geophysical Monograph 221; 57\tThis is a book chapter for AGU monograph about human impact on land surface water budget\t\tAGU-Mono\thttps://doi.org/10.1002/9781118971772.ch4\n",
      "1/1/2014\tEvaluation of real-time satellite precipitation data for global drought monitoring\tJournal of Hydrometeorology\tThis study evaluates the difference between TRMM-real time (RT) and TRMM-research product (RP)\t\tJHM-TRMM\thttps://doi.org/10.1175/JHM-D-13-0128.1\n",
      "1/2/2014\tA prototype global drought information system based on multiple land surface models\tJournal of Hydrometeorology\tThis paper is about a global drought monitoring system based on VIC model\t\tJHM-Drought-Monitoring\thttps://doi.org/10.1175/JHM-D-13-090.1\n",
      "1/1/2013\tReshaping of the hyporheic zone beneath river restoration structures: flume and hydrodynamic experiments\tWater Resources Research\tThis study quantifies how river restoration structures change surface and hyporheic flow hydrodynamics\t\tWRR-Flume-Hyporheic\thttps://doi.org/10.1002/WRCR.20384\n",
      "1/1/2012\tMeander hydrodynamics initiated by river restoration deflectors\tHydrological Processes\tThis study quantifies how river restoration structures change surface flow hydrodynamics\t\"Zhou, T., & Endreny, T. (2012). Meander hydrodynamics initiated by river restoration deflectors. Hydrological Processes, 26(22), 3378-3392.\"\tHP-CFD\thttps://doi.org/10.1002/hyp.8352\n",
      "1/1/2007\tDiscovery of a 1. 0 Ma Yellow River terrace and redating of the fourth Yellow River terrace in Lanzhou area\tProgress in Natural Science\tThis paper reports the 4th terrace of Yellow River in Lanzhou area\t\tYellow-River-Lanzhou\thttps://www.tandfonline.com/doi/abs/10.1080/10020070612331343246\n"
     ]
    }
   ],
   "source": [
    "!cat publications.tsv"
   ]
  },
  {
   "cell_type": "markdown",
   "metadata": {},
   "source": [
    "## Import pandas\n",
    "\n",
    "We are using the very handy pandas library for dataframes."
   ]
  },
  {
   "cell_type": "code",
   "execution_count": 8,
   "metadata": {},
   "outputs": [],
   "source": [
    "import pandas as pd"
   ]
  },
  {
   "cell_type": "markdown",
   "metadata": {},
   "source": [
    "## Import TSV\n",
    "\n",
    "Pandas makes this easy with the read_csv function. We are using a TSV, so we specify the separator as a tab, or `\\t`.\n",
    "\n",
    "I found it important to put this data in a tab-separated values format, because there are a lot of commas in this kind of data and comma-separated values can get messed up. However, you can modify the import statement, as pandas also has read_excel(), read_json(), and others."
   ]
  },
  {
   "cell_type": "code",
   "execution_count": 9,
   "metadata": {},
   "outputs": [
    {
     "ename": "UnicodeDecodeError",
     "evalue": "'utf-8' codec can't decode byte 0x96 in position 73: invalid start byte",
     "output_type": "error",
     "traceback": [
      "\u001b[1;31m---------------------------------------------------------------------------\u001b[0m",
      "\u001b[1;31mUnicodeDecodeError\u001b[0m                        Traceback (most recent call last)",
      "\u001b[1;32mpandas\\_libs\\parsers.pyx\u001b[0m in \u001b[0;36mpandas._libs.parsers.TextReader._convert_tokens\u001b[1;34m()\u001b[0m\n",
      "\u001b[1;32mpandas\\_libs\\parsers.pyx\u001b[0m in \u001b[0;36mpandas._libs.parsers.TextReader._convert_with_dtype\u001b[1;34m()\u001b[0m\n",
      "\u001b[1;32mpandas\\_libs\\parsers.pyx\u001b[0m in \u001b[0;36mpandas._libs.parsers.TextReader._string_convert\u001b[1;34m()\u001b[0m\n",
      "\u001b[1;32mpandas\\_libs\\parsers.pyx\u001b[0m in \u001b[0;36mpandas._libs.parsers._string_box_utf8\u001b[1;34m()\u001b[0m\n",
      "\u001b[1;31mUnicodeDecodeError\u001b[0m: 'utf-8' codec can't decode byte 0x96 in position 73: invalid start byte",
      "\nDuring handling of the above exception, another exception occurred:\n",
      "\u001b[1;31mUnicodeDecodeError\u001b[0m                        Traceback (most recent call last)",
      "\u001b[1;32m<ipython-input-9-e87d07abf925>\u001b[0m in \u001b[0;36m<module>\u001b[1;34m\u001b[0m\n\u001b[1;32m----> 1\u001b[1;33m \u001b[0mpublications\u001b[0m \u001b[1;33m=\u001b[0m \u001b[0mpd\u001b[0m\u001b[1;33m.\u001b[0m\u001b[0mread_csv\u001b[0m\u001b[1;33m(\u001b[0m\u001b[1;34m\"publications.tsv\"\u001b[0m\u001b[1;33m,\u001b[0m \u001b[0msep\u001b[0m\u001b[1;33m=\u001b[0m\u001b[1;34m\"\\t\"\u001b[0m\u001b[1;33m,\u001b[0m \u001b[0mheader\u001b[0m\u001b[1;33m=\u001b[0m\u001b[1;36m0\u001b[0m\u001b[1;33m)\u001b[0m\u001b[1;33m\u001b[0m\u001b[1;33m\u001b[0m\u001b[0m\n\u001b[0m\u001b[0;32m      2\u001b[0m \u001b[0mpublications\u001b[0m\u001b[1;33m\u001b[0m\u001b[1;33m\u001b[0m\u001b[0m\n",
      "\u001b[1;32m~\\AppData\\Local\\Continuum\\anaconda3\\lib\\site-packages\\pandas\\io\\parsers.py\u001b[0m in \u001b[0;36mparser_f\u001b[1;34m(filepath_or_buffer, sep, delimiter, header, names, index_col, usecols, squeeze, prefix, mangle_dupe_cols, dtype, engine, converters, true_values, false_values, skipinitialspace, skiprows, skipfooter, nrows, na_values, keep_default_na, na_filter, verbose, skip_blank_lines, parse_dates, infer_datetime_format, keep_date_col, date_parser, dayfirst, cache_dates, iterator, chunksize, compression, thousands, decimal, lineterminator, quotechar, quoting, doublequote, escapechar, comment, encoding, dialect, error_bad_lines, warn_bad_lines, delim_whitespace, low_memory, memory_map, float_precision)\u001b[0m\n\u001b[0;32m    683\u001b[0m         )\n\u001b[0;32m    684\u001b[0m \u001b[1;33m\u001b[0m\u001b[0m\n\u001b[1;32m--> 685\u001b[1;33m         \u001b[1;32mreturn\u001b[0m \u001b[0m_read\u001b[0m\u001b[1;33m(\u001b[0m\u001b[0mfilepath_or_buffer\u001b[0m\u001b[1;33m,\u001b[0m \u001b[0mkwds\u001b[0m\u001b[1;33m)\u001b[0m\u001b[1;33m\u001b[0m\u001b[1;33m\u001b[0m\u001b[0m\n\u001b[0m\u001b[0;32m    686\u001b[0m \u001b[1;33m\u001b[0m\u001b[0m\n\u001b[0;32m    687\u001b[0m     \u001b[0mparser_f\u001b[0m\u001b[1;33m.\u001b[0m\u001b[0m__name__\u001b[0m \u001b[1;33m=\u001b[0m \u001b[0mname\u001b[0m\u001b[1;33m\u001b[0m\u001b[1;33m\u001b[0m\u001b[0m\n",
      "\u001b[1;32m~\\AppData\\Local\\Continuum\\anaconda3\\lib\\site-packages\\pandas\\io\\parsers.py\u001b[0m in \u001b[0;36m_read\u001b[1;34m(filepath_or_buffer, kwds)\u001b[0m\n\u001b[0;32m    461\u001b[0m \u001b[1;33m\u001b[0m\u001b[0m\n\u001b[0;32m    462\u001b[0m     \u001b[1;32mtry\u001b[0m\u001b[1;33m:\u001b[0m\u001b[1;33m\u001b[0m\u001b[1;33m\u001b[0m\u001b[0m\n\u001b[1;32m--> 463\u001b[1;33m         \u001b[0mdata\u001b[0m \u001b[1;33m=\u001b[0m \u001b[0mparser\u001b[0m\u001b[1;33m.\u001b[0m\u001b[0mread\u001b[0m\u001b[1;33m(\u001b[0m\u001b[0mnrows\u001b[0m\u001b[1;33m)\u001b[0m\u001b[1;33m\u001b[0m\u001b[1;33m\u001b[0m\u001b[0m\n\u001b[0m\u001b[0;32m    464\u001b[0m     \u001b[1;32mfinally\u001b[0m\u001b[1;33m:\u001b[0m\u001b[1;33m\u001b[0m\u001b[1;33m\u001b[0m\u001b[0m\n\u001b[0;32m    465\u001b[0m         \u001b[0mparser\u001b[0m\u001b[1;33m.\u001b[0m\u001b[0mclose\u001b[0m\u001b[1;33m(\u001b[0m\u001b[1;33m)\u001b[0m\u001b[1;33m\u001b[0m\u001b[1;33m\u001b[0m\u001b[0m\n",
      "\u001b[1;32m~\\AppData\\Local\\Continuum\\anaconda3\\lib\\site-packages\\pandas\\io\\parsers.py\u001b[0m in \u001b[0;36mread\u001b[1;34m(self, nrows)\u001b[0m\n\u001b[0;32m   1152\u001b[0m     \u001b[1;32mdef\u001b[0m \u001b[0mread\u001b[0m\u001b[1;33m(\u001b[0m\u001b[0mself\u001b[0m\u001b[1;33m,\u001b[0m \u001b[0mnrows\u001b[0m\u001b[1;33m=\u001b[0m\u001b[1;32mNone\u001b[0m\u001b[1;33m)\u001b[0m\u001b[1;33m:\u001b[0m\u001b[1;33m\u001b[0m\u001b[1;33m\u001b[0m\u001b[0m\n\u001b[0;32m   1153\u001b[0m         \u001b[0mnrows\u001b[0m \u001b[1;33m=\u001b[0m \u001b[0m_validate_integer\u001b[0m\u001b[1;33m(\u001b[0m\u001b[1;34m\"nrows\"\u001b[0m\u001b[1;33m,\u001b[0m \u001b[0mnrows\u001b[0m\u001b[1;33m)\u001b[0m\u001b[1;33m\u001b[0m\u001b[1;33m\u001b[0m\u001b[0m\n\u001b[1;32m-> 1154\u001b[1;33m         \u001b[0mret\u001b[0m \u001b[1;33m=\u001b[0m \u001b[0mself\u001b[0m\u001b[1;33m.\u001b[0m\u001b[0m_engine\u001b[0m\u001b[1;33m.\u001b[0m\u001b[0mread\u001b[0m\u001b[1;33m(\u001b[0m\u001b[0mnrows\u001b[0m\u001b[1;33m)\u001b[0m\u001b[1;33m\u001b[0m\u001b[1;33m\u001b[0m\u001b[0m\n\u001b[0m\u001b[0;32m   1155\u001b[0m \u001b[1;33m\u001b[0m\u001b[0m\n\u001b[0;32m   1156\u001b[0m         \u001b[1;31m# May alter columns / col_dict\u001b[0m\u001b[1;33m\u001b[0m\u001b[1;33m\u001b[0m\u001b[1;33m\u001b[0m\u001b[0m\n",
      "\u001b[1;32m~\\AppData\\Local\\Continuum\\anaconda3\\lib\\site-packages\\pandas\\io\\parsers.py\u001b[0m in \u001b[0;36mread\u001b[1;34m(self, nrows)\u001b[0m\n\u001b[0;32m   2057\u001b[0m     \u001b[1;32mdef\u001b[0m \u001b[0mread\u001b[0m\u001b[1;33m(\u001b[0m\u001b[0mself\u001b[0m\u001b[1;33m,\u001b[0m \u001b[0mnrows\u001b[0m\u001b[1;33m=\u001b[0m\u001b[1;32mNone\u001b[0m\u001b[1;33m)\u001b[0m\u001b[1;33m:\u001b[0m\u001b[1;33m\u001b[0m\u001b[1;33m\u001b[0m\u001b[0m\n\u001b[0;32m   2058\u001b[0m         \u001b[1;32mtry\u001b[0m\u001b[1;33m:\u001b[0m\u001b[1;33m\u001b[0m\u001b[1;33m\u001b[0m\u001b[0m\n\u001b[1;32m-> 2059\u001b[1;33m             \u001b[0mdata\u001b[0m \u001b[1;33m=\u001b[0m \u001b[0mself\u001b[0m\u001b[1;33m.\u001b[0m\u001b[0m_reader\u001b[0m\u001b[1;33m.\u001b[0m\u001b[0mread\u001b[0m\u001b[1;33m(\u001b[0m\u001b[0mnrows\u001b[0m\u001b[1;33m)\u001b[0m\u001b[1;33m\u001b[0m\u001b[1;33m\u001b[0m\u001b[0m\n\u001b[0m\u001b[0;32m   2060\u001b[0m         \u001b[1;32mexcept\u001b[0m \u001b[0mStopIteration\u001b[0m\u001b[1;33m:\u001b[0m\u001b[1;33m\u001b[0m\u001b[1;33m\u001b[0m\u001b[0m\n\u001b[0;32m   2061\u001b[0m             \u001b[1;32mif\u001b[0m \u001b[0mself\u001b[0m\u001b[1;33m.\u001b[0m\u001b[0m_first_chunk\u001b[0m\u001b[1;33m:\u001b[0m\u001b[1;33m\u001b[0m\u001b[1;33m\u001b[0m\u001b[0m\n",
      "\u001b[1;32mpandas\\_libs\\parsers.pyx\u001b[0m in \u001b[0;36mpandas._libs.parsers.TextReader.read\u001b[1;34m()\u001b[0m\n",
      "\u001b[1;32mpandas\\_libs\\parsers.pyx\u001b[0m in \u001b[0;36mpandas._libs.parsers.TextReader._read_low_memory\u001b[1;34m()\u001b[0m\n",
      "\u001b[1;32mpandas\\_libs\\parsers.pyx\u001b[0m in \u001b[0;36mpandas._libs.parsers.TextReader._read_rows\u001b[1;34m()\u001b[0m\n",
      "\u001b[1;32mpandas\\_libs\\parsers.pyx\u001b[0m in \u001b[0;36mpandas._libs.parsers.TextReader._convert_column_data\u001b[1;34m()\u001b[0m\n",
      "\u001b[1;32mpandas\\_libs\\parsers.pyx\u001b[0m in \u001b[0;36mpandas._libs.parsers.TextReader._convert_tokens\u001b[1;34m()\u001b[0m\n",
      "\u001b[1;32mpandas\\_libs\\parsers.pyx\u001b[0m in \u001b[0;36mpandas._libs.parsers.TextReader._convert_with_dtype\u001b[1;34m()\u001b[0m\n",
      "\u001b[1;32mpandas\\_libs\\parsers.pyx\u001b[0m in \u001b[0;36mpandas._libs.parsers.TextReader._string_convert\u001b[1;34m()\u001b[0m\n",
      "\u001b[1;32mpandas\\_libs\\parsers.pyx\u001b[0m in \u001b[0;36mpandas._libs.parsers._string_box_utf8\u001b[1;34m()\u001b[0m\n",
      "\u001b[1;31mUnicodeDecodeError\u001b[0m: 'utf-8' codec can't decode byte 0x96 in position 73: invalid start byte"
     ]
    }
   ],
   "source": [
    "publications = pd.read_csv(\"publications.tsv\", sep=\"\\t\", header=0)\n",
    "publications\n"
   ]
  },
  {
   "cell_type": "markdown",
   "metadata": {},
   "source": [
    "## Escape special characters\n",
    "\n",
    "YAML is very picky about how it takes a valid string, so we are replacing single and double quotes (and ampersands) with their HTML encoded equivilents. This makes them look not so readable in raw format, but they are parsed and rendered nicely."
   ]
  },
  {
   "cell_type": "code",
   "execution_count": 4,
   "metadata": {},
   "outputs": [],
   "source": [
    "html_escape_table = {\n",
    "    \"&\": \"&amp;\",\n",
    "    '\"': \"&quot;\",\n",
    "    \"'\": \"&apos;\"\n",
    "    }\n",
    "\n",
    "def html_escape(text):\n",
    "    \"\"\"Produce entities within text.\"\"\"\n",
    "    return \"\".join(html_escape_table.get(c,c) for c in text)"
   ]
  },
  {
   "cell_type": "markdown",
   "metadata": {},
   "source": [
    "## Creating the markdown files\n",
    "\n",
    "This is where the heavy lifting is done. This loops through all the rows in the TSV dataframe, then starts to concatentate a big string (```md```) that contains the markdown for each type. It does the YAML metadata first, then does the description for the individual page."
   ]
  },
  {
   "cell_type": "code",
   "execution_count": 5,
   "metadata": {},
   "outputs": [
    {
     "ename": "NameError",
     "evalue": "name 'publications' is not defined",
     "output_type": "error",
     "traceback": [
      "\u001b[1;31m---------------------------------------------------------------------------\u001b[0m",
      "\u001b[1;31mNameError\u001b[0m                                 Traceback (most recent call last)",
      "\u001b[1;32m<ipython-input-5-c4c9fc6486e5>\u001b[0m in \u001b[0;36m<module>\u001b[1;34m\u001b[0m\n\u001b[0;32m      1\u001b[0m \u001b[1;32mimport\u001b[0m \u001b[0mos\u001b[0m\u001b[1;33m\u001b[0m\u001b[1;33m\u001b[0m\u001b[0m\n\u001b[1;32m----> 2\u001b[1;33m \u001b[1;32mfor\u001b[0m \u001b[0mrow\u001b[0m\u001b[1;33m,\u001b[0m \u001b[0mitem\u001b[0m \u001b[1;32min\u001b[0m \u001b[0mpublications\u001b[0m\u001b[1;33m.\u001b[0m\u001b[0miterrows\u001b[0m\u001b[1;33m(\u001b[0m\u001b[1;33m)\u001b[0m\u001b[1;33m:\u001b[0m\u001b[1;33m\u001b[0m\u001b[1;33m\u001b[0m\u001b[0m\n\u001b[0m\u001b[0;32m      3\u001b[0m \u001b[1;33m\u001b[0m\u001b[0m\n\u001b[0;32m      4\u001b[0m     \u001b[0myear\u001b[0m \u001b[1;33m=\u001b[0m \u001b[0mitem\u001b[0m\u001b[1;33m.\u001b[0m\u001b[0mpub_date\u001b[0m\u001b[1;33m[\u001b[0m\u001b[1;36m4\u001b[0m\u001b[1;33m:\u001b[0m\u001b[1;36m8\u001b[0m\u001b[1;33m]\u001b[0m\u001b[1;33m\u001b[0m\u001b[1;33m\u001b[0m\u001b[0m\n\u001b[0;32m      5\u001b[0m     \u001b[0mmd_filename\u001b[0m \u001b[1;33m=\u001b[0m \u001b[0mstr\u001b[0m\u001b[1;33m(\u001b[0m\u001b[0myear\u001b[0m\u001b[1;33m)\u001b[0m \u001b[1;33m+\u001b[0m \u001b[1;34m\"-\"\u001b[0m \u001b[1;33m+\u001b[0m \u001b[0mitem\u001b[0m\u001b[1;33m.\u001b[0m\u001b[0murl_slug\u001b[0m \u001b[1;33m+\u001b[0m \u001b[1;34m\".md\"\u001b[0m\u001b[1;33m\u001b[0m\u001b[1;33m\u001b[0m\u001b[0m\n",
      "\u001b[1;31mNameError\u001b[0m: name 'publications' is not defined"
     ]
    }
   ],
   "source": [
    "import os\n",
    "for row, item in publications.iterrows():\n",
    "    \n",
    "    year = item.pub_date[4:8]\n",
    "    md_filename = str(year) + \"-\" + item.url_slug + \".md\"\n",
    "    html_filename = str(year) + \"-\" + item.url_slug\n",
    "        \n",
    "    ## YAML variables\n",
    "    \n",
    "    md = \"---\\ntitle: \\\"\"   + item.title + '\"\\n'\n",
    "    \n",
    "    md += \"\"\"collection: publications\"\"\"\n",
    "    \n",
    "    md += \"\"\"\\npermalink: /publication/\"\"\" + html_filename\n",
    "    \n",
    "    if len(str(item.excerpt)) > 5:\n",
    "        md += \"\\nexcerpt: '\" + html_escape(item.excerpt) + \"'\"\n",
    "    \n",
    "    md += \"\\ndate: \" + str(item.pub_date) \n",
    "    \n",
    "    md += \"\\nvenue: '\" + html_escape(item.venue) + \"'\"\n",
    "    \n",
    "    if len(str(item.paper_url)) > 5:\n",
    "        md += \"\\npaperurl: '\" + item.paper_url + \"'\"\n",
    "    \n",
    "    # md += \"\\ncitation: '\" + html_escape(item.citation) + \"'\"\n",
    "    \n",
    "    md += \"\\n---\"\n",
    "    \n",
    "    ## Markdown description for individual page\n",
    "        \n",
    "    if len(str(item.excerpt)) > 5:\n",
    "        md += \"\\n\" + html_escape(item.excerpt) + \"\\n\"\n",
    "    \n",
    "    if len(str(item.paper_url)) > 5:\n",
    "        md += \"\\n[Link to the paper](\" + item.paper_url + \")\\n\" \n",
    "    \n",
    "    md += \"\\n![image](../images/papers/\" + str(year) + \"-\" + item.url_slug + \".png)\\n\"\n",
    "    \n",
    "    # md += \"\\nRecommended citation: \" + item.citation\n",
    "    \n",
    "    md_filename = os.path.basename(md_filename)\n",
    "       \n",
    "    with open(\"../_publications/\" + md_filename, 'w') as f:\n",
    "        f.write(md)\n",
    "        \n",
    "    item.pub_date"
   ]
  },
  {
   "cell_type": "code",
   "execution_count": 6,
   "metadata": {},
   "outputs": [
    {
     "ename": "NameError",
     "evalue": "name 'item' is not defined",
     "output_type": "error",
     "traceback": [
      "\u001b[1;31m---------------------------------------------------------------------------\u001b[0m",
      "\u001b[1;31mNameError\u001b[0m                                 Traceback (most recent call last)",
      "\u001b[1;32m<ipython-input-6-ca40388204f5>\u001b[0m in \u001b[0;36m<module>\u001b[1;34m\u001b[0m\n\u001b[1;32m----> 1\u001b[1;33m \u001b[0mitem\u001b[0m\u001b[1;33m.\u001b[0m\u001b[0mpub_date\u001b[0m\u001b[1;33m[\u001b[0m\u001b[1;36m4\u001b[0m\u001b[1;33m:\u001b[0m\u001b[1;36m8\u001b[0m\u001b[1;33m]\u001b[0m\u001b[1;33m\u001b[0m\u001b[1;33m\u001b[0m\u001b[0m\n\u001b[0m",
      "\u001b[1;31mNameError\u001b[0m: name 'item' is not defined"
     ]
    }
   ],
   "source": [
    "item.pub_date[4:8]"
   ]
  },
  {
   "cell_type": "markdown",
   "metadata": {},
   "source": [
    "These files are in the publications directory, one directory below where we're working from."
   ]
  },
  {
   "cell_type": "code",
   "execution_count": 40,
   "metadata": {},
   "outputs": [
    {
     "name": "stdout",
     "output_type": "stream",
     "text": [
      "12-HP-CFD.md\r\n",
      "13-WRR-Flume-Hyporheic.md\r\n",
      "14-JHM-Drought-Monitoring.md\r\n",
      "14-JHM-TRMM.md\r\n",
      "16-AGU-Mono.md\r\n",
      "16-JHM-VIC-Reservoir.md\r\n",
      "17-GMD-CLM-PFLOTRAN.md\r\n",
      "17-Water-iButton.md\r\n",
      "18-ERL-Hydropower.md\r\n",
      "18-HP-Columbia-River-CFD.md\r\n",
      "18-HP-Snow-Gap.md\r\n",
      "18-JHM-West-US-WM.md\r\n",
      "18-WRR-Columbia-River-CFD.md\r\n",
      "19-JAMES-E3SM-overview-high-resolution.md\r\n",
      "19-JAMES-E3SM-overview.md\r\n",
      "19-JGR-Flood-Inundation.md\r\n",
      "19-JGR-Indian-VIC-IRR-Reservoir.md\r\n",
      "19-JGR-Indian-VIC-IRR.md\r\n",
      "20-AE-power-grid.md\r\n",
      "20-E3SM-BGC.md\r\n",
      "20-E3SM-irrigation.md\r\n",
      "20-Water-ESF-flume.md\r\n",
      "2012-HP-CFD.md\r\n",
      "2013-WRR-Flume-Hyporheic.md\r\n",
      "2014-JHM-Drought-Monitoring.md\r\n",
      "2014-JHM-TRMM.md\r\n",
      "2016-AGU-Mono.md\r\n",
      "2016-JHM-VIC-Reservoir.md\r\n",
      "2017-GMD-CLM-PFLOTRAN.md\r\n",
      "2017-Water-iButton.md\r\n",
      "2018-ERL-Hydropower.md\r\n",
      "2018-HP-Columbia-River-CFD.md\r\n",
      "2018-HP-Snow-Gap.md\r\n",
      "2018-JHM-West-US-WM.md\r\n",
      "2018-WRR-Columbia-River-CFD.md\r\n",
      "2019-JAMES-E3SM-overview-high-resolution.md\r\n",
      "2019-JAMES-E3SM-overview.md\r\n",
      "2019-JGR-Flood-Inundation.md\r\n",
      "2019-JGR-Indian-VIC-IRR-Reservoir.md\r\n",
      "2019-JGR-Indian-VIC-IRR.md\r\n",
      "2020-AE-power-grid.md\r\n",
      "2020-E3SM-BGC.md\r\n",
      "2020-E3SM-irrigation.md\r\n",
      "2020-Water-ESF-flume.md\r\n"
     ]
    }
   ],
   "source": [
    "!ls ../_publications/"
   ]
  },
  {
   "cell_type": "code",
   "execution_count": 41,
   "metadata": {},
   "outputs": [
    {
     "name": "stdout",
     "output_type": "stream",
     "text": [
      "cat: ../_publications/2009-10-01-paper-title-number-1.md: No such file or directory\r\n"
     ]
    }
   ],
   "source": [
    "!cat ../_publications/2009-10-01-paper-title-number-1.md"
   ]
  },
  {
   "cell_type": "code",
   "execution_count": null,
   "metadata": {},
   "outputs": [],
   "source": []
  },
  {
   "cell_type": "code",
   "execution_count": null,
   "metadata": {},
   "outputs": [],
   "source": []
  }
 ],
 "metadata": {
  "kernelspec": {
   "display_name": "Python 3",
   "language": "python",
   "name": "python3"
  },
  "language_info": {
   "codemirror_mode": {
    "name": "ipython",
    "version": 3
   },
   "file_extension": ".py",
   "mimetype": "text/x-python",
   "name": "python",
   "nbconvert_exporter": "python",
   "pygments_lexer": "ipython3",
   "version": "3.7.4"
  }
 },
 "nbformat": 4,
 "nbformat_minor": 1
}
