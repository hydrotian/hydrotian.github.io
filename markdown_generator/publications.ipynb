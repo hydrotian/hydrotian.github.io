{
 "cells": [
  {
   "cell_type": "markdown",
   "metadata": {},
   "source": [
    "# Publications markdown generator for academicpages\n",
    "\n",
    "Takes a TSV of publications with metadata and converts them for use with [academicpages.github.io](academicpages.github.io). This is an interactive Jupyter notebook ([see more info here](http://jupyter-notebook-beginner-guide.readthedocs.io/en/latest/what_is_jupyter.html)). The core python code is also in `publications.py`. Run either from the `markdown_generator` folder after replacing `publications.tsv` with one containing your data.\n",
    "\n",
    "TODO: Make this work with BibTex and other databases of citations, rather than Stuart's non-standard TSV format and citation style.\n"
   ]
  },
  {
   "cell_type": "markdown",
   "metadata": {},
   "source": [
    "## Data format\n",
    "\n",
    "The TSV needs to have the following columns: pub_date, title, venue, excerpt, citation, site_url, and paper_url, with a header at the top. \n",
    "\n",
    "- `excerpt` and `paper_url` can be blank, but the others must have values. \n",
    "- `pub_date` must be formatted as YYYY-MM-DD.\n",
    "- `url_slug` will be the descriptive part of the .md file and the permalink URL for the page about the paper. The .md file will be `YYYY-MM-DD-[url_slug].md` and the permalink will be `https://[yourdomain]/publications/YYYY-MM-DD-[url_slug]`\n",
    "\n",
    "This is how the raw file looks (it doesn't look pretty, use a spreadsheet or other program to edit and create)."
   ]
  },
  {
   "cell_type": "code",
   "execution_count": 1,
   "metadata": {},
   "outputs": [
    {
     "name": "stdout",
     "output_type": "stream",
     "text": [
      "pub_date,title,venue,excerpt,citation,url_slug,paper_url\n",
      "1/2/20,\"Global irrigation characteristics and effects simulated by fully coupled land surface, river, and water management models in E3SM\",Journal of Advances in Modeling Earth Systems,\"This paper introduces a two_way coupled irrigation scheme developed within the Energy Exascale Earth System Model (E3SM). The new irrigation scheme simulates irrigation water demand and applies irrigation water in E3SM Land Model (ELM), which is coupled to a river routing model and a water management model (MOSART_WM) that simulate streamflow, reservoir operations, and irrigation water supply\",,E3SM-irrigation,https://doi.org/10.1029/2020MS002069\n",
      "1/4/20,Impact of climate change on water availability and its propagation through the Western U.S. power grid,Applied Energy,This paper evaluates how projected changes in water availability affect electricity generation at hydroelectric and thermal power plants and how the coincident impacts propagate locally and throughout the interconnected power grid of western United States,,AE-power-grid,https://doi.org/10.1016/j.apenergy.2020.115467\n",
      "1/3/20,The DOE E3SM v1. 1 biogeochemistry configuration: description and simulated ecosystem_climate responses to historical changes in forcing,Journal of Advances in Modeling Earth Systems,\"This paper documents the biogeochemistry configuration of the Energy Exascale Earth System Model (E3SM), E3SMv1.1_BGC. The model simulates historical carbon cycle dynamics, including carbon losses predicted in response to land use and land cover change, and the responses of the carbon cycle to changes in climate\",,E3SM-BGC,https://doi.org/10.1029/2019MS001766\n",
      "1/1/20,The Straightening of a River Meander Leads to Extensive Losses in Flow Complexity and Ecosystem Services,Water,This paper was the last chapter of my PhD dissertation. We made a few attempts to publish the work and finally got accepted by Water. This study investigates the meander hydrodynamic changes with regard to the channel curvature,,Water-ESF-flume,https://doi.org/10.3390/w12061680\n",
      "1/1/19,Roles of irrigation and reservoir operations in modulating terrestrial water budgets in the Indian sub-continental river basins,Journal of Geophysical Research: Atmosphere,This paper examines water management impact over Indian basins using VIC-IRR model combined with reservoir scheme,,JGR-Indian-VIC-IRR-Reservoir,https://doi.org/10.1029/2019MS001870\n",
      "1/2/19,The DOE E3SM coupled model version 1: Description and results at high resolution,Journal of Advances in Modeling Earth Systems,This paper overviews E3SM V1 at high resolution configuration,,JAMES-E3SM-overview-high-resolution,https://doi.org/10.1029/2019MS001870\n",
      "1/3/19,Flood Inundation Generation Mechanisms and Their Changes in 1953-2004 in Global Major River Basins.,Journal of Geophysics Research: Atmospheres ,This paper used MOSART-inundation to investigate global flood characteristics and the shift of flood generating factors over 50 year period,,JGR-Flood-Inundation,https://doi.org/10.1029/2019JD031381\n",
      "1/4/19,The DOE E3SM Coupled Model Version 1: Overview and Evaluation at Standard Resolution,Journal of Advances in Modeling Earth Systems,This paper overviews E3SM V1 at standard resolution configuration,\"Golaz, J. C., Caldwell, P. M., Van Roekel, L. P., Petersen, M. R., Tang, Q., Wolfe, J. D., ... & Baldwin, S. A. (2019). The DOE E3SM coupled model version 1: Overview and evaluation at standard resolution. Journal of Advances in Modeling Earth Systems, 11(7), 2089-2129.\",JAMES-E3SM-overview,https://doi.org/10.1029/2018MS001603\n",
      "1/5/19,Strong influence of irrigation on water budget and land surface temperature in Indian sub-continental river basins,Journal of Geophysical Research: Atmospheres,This paper examines irrigation impacts over Indian basins,,JGR-Indian-VIC-IRR,https://doi.org/10.1029/2018JD029132\n",
      "1/1/18,Modulating factors of hydrologic exchanges in a large-scale river reach: insights from three-dimensional computational fluid dynamics simulations,Hydrological Processes ,This paper investigates the major control factors of hydrologic exchange in a 7km Columbia River reach,,HP-Columbia-River-CFD,https://doi.org/10.1002/hyp.13266\n",
      "1/2/18,Non-stationary hydropower generation projections constrained by environmental and electricity grid operations over the western United States,Environmental Research Letters,This paper compares process-based model predictions with simple regression results in terms of future hydropower generation,,ERL-Hydropower,https://doi.org/10.1088/1748-9326/aad19f\n",
      "1/3/18,Evaluating the functionality and streamflow impacts of explicitly modeling forest snow interactions and canopy gaps in a distributed hydrologic model,Hydrological Processes ,This paper examines the effect of forest gaps on snow processes,,HP-Snow-Gap,https://doi.org/10.1002/hyp.13150\n",
      "1/4/18,Riverbed hydrologic exchange dynamics in a large regulated river reach,Water Resources Research ,This paper examines how upstream dam operations controls downstream hydrologic exchange patterns,,WRR-Columbia-River-CFD,https://doi.org/10.1002/2017WR020508\n",
      "1/5/18,Sensitivity of regulated flow regime to climate change in the Western United States,Journal of Hydrometeorology ,This paper compares the regulated flow and natural flow patterns in western U.S.,,JHM-West-US-WM,https://doi.org/10.1175/JHM-D-17-0095.1\n",
      "1/6/18,Evapotranspiration simulations in ISIMIP2a - Evaluation of spatio-temporal characteristics with a comprehensive ensemble of independent datasets,Environmental Research Letters,This paper describes the ET results from ISI-MIP simulations,,ISIMIP,https://iopscience.iop.org/article/10.1088/1748-9326/aac4bb\n",
      "1/7/18,A Climate Data Record (CDR) for the global terrestrial water budget 1984-2010,Hydrology and Earth System Sciences,This paper describes a dataset about global terrestrial water budget variables,,CDR,https://doi.org/10.5194/hess-22-241-2018\n",
      "1/1/17,Coupling a three-dimensional subsurface flow and transport model with a land surface model to simulate stream-aquifer-land interactions ,Geoscientific Model Development,This paper is about coupling CLM and PFLOTRAN,,GMD-CLM-PFLOTRAN,https://doi.org/10.5194/gmd-10-4539-2017\n",
      "1/2/17,A New Approach to Quantify Shallow Water Hydrologic Exchanges in a Large Regulated River Reach,Water,This paper uses streambed temperature to predict vertical hydrologic exchange rate in Columbia River,,Water-iButton,https://doi.org/10.3390/w9090703\n",
      "1/3/17,Understanding and seasonal forecasting of hydrological drought in the Anthropocene,Hydrology and Earth System Sciences,This paper discusses drought events in Yellow River basin,,Yellow-River-drought,https://doi.org/10.5194/hess-21-5477-2017\n",
      "1/4/17,Opportunities for joint water-energy management: sensitivity of the 2010 Western U.S. electricity grid operations to climate oscillations,Bulletin of the American Meteorological Society,This paper assesses the vulnerability of the current western U.S. grid to historical climate variability using multiple energy and water system models,,BAMS,https://doi.org/10.1175/BAMS-D-16-0253.1\n",
      "1/1/16,The contribution of reservoirs to global land surface water storage variations,Journal of Hydrometeorology,\"This study investigates human-induced water storage (reservoirs) variation and compares it with natural variations (SWE, soil moisture)\",,JHM-VIC-Reservoir,https://doi.org/10.1175/JHM-D-15-0002.1\n",
      "1/2/16,Human induced changes in the global water cycle,Terrestrial Water Cycle and Climate Change: Natural and Human-Induced Impacts; Geophysical Monograph 221; 57,This is a book chapter for AGU monograph about human impact on land surface water budget,,AGU-Mono,https://doi.org/10.1002/9781118971772.ch4\n",
      "1/1/14,Evaluation of real-time satellite precipitation data for global drought monitoring,Journal of Hydrometeorology,This study evaluates the difference between TRMM-real time (RT) and TRMM-research product (RP),,JHM-TRMM,https://doi.org/10.1175/JHM-D-13-0128.1\n",
      "1/2/14,A prototype global drought information system based on multiple land surface models,Journal of Hydrometeorology,This paper is about a global drought monitoring system based on VIC model,,JHM-Drought-Monitoring,https://doi.org/10.1175/JHM-D-13-090.1\n",
      "1/1/13,Reshaping of the hyporheic zone beneath river restoration structures: flume and hydrodynamic experiments,Water Resources Research,This study quantifies how river restoration structures change surface and hyporheic flow hydrodynamics,,WRR-Flume-Hyporheic,https://doi.org/10.1002/WRCR.20384\n",
      "1/1/12,Meander hydrodynamics initiated by river restoration deflectors,Hydrological Processes,This study quantifies how river restoration structures change surface flow hydrodynamics,\"Zhou, T., & Endreny, T. (2012). Meander hydrodynamics initiated by river restoration deflectors. Hydrological Processes, 26(22), 3378-3392.\",HP-CFD,https://doi.org/10.1002/hyp.8352\n",
      "1/1/07,Discovery of a 1. 0 Ma Yellow River terrace and redating of the fourth Yellow River terrace in Lanzhou area,Progress in Natural Science,This paper reports the 4th terrace of Yellow River in Lanzhou area,,Yellow-River-Lanzhou,https://www.tandfonline.com/doi/abs/10.1080/10020070612331343246"
     ]
    }
   ],
   "source": [
    "!cat publications.csv"
   ]
  },
  {
   "cell_type": "markdown",
   "metadata": {},
   "source": [
    "## Import pandas\n",
    "\n",
    "We are using the very handy pandas library for dataframes."
   ]
  },
  {
   "cell_type": "code",
   "execution_count": 2,
   "metadata": {},
   "outputs": [],
   "source": [
    "import pandas as pd"
   ]
  },
  {
   "cell_type": "markdown",
   "metadata": {},
   "source": [
    "## Import TSV\n",
    "\n",
    "Pandas makes this easy with the read_csv function. We are using a TSV, so we specify the separator as a tab, or `\\t`.\n",
    "\n",
    "I found it important to put this data in a tab-separated values format, because there are a lot of commas in this kind of data and comma-separated values can get messed up. However, you can modify the import statement, as pandas also has read_excel(), read_json(), and others."
   ]
  },
  {
   "cell_type": "code",
   "execution_count": 11,
   "metadata": {},
   "outputs": [
    {
     "data": {
      "text/html": [
       "<div>\n",
       "<style scoped>\n",
       "    .dataframe tbody tr th:only-of-type {\n",
       "        vertical-align: middle;\n",
       "    }\n",
       "\n",
       "    .dataframe tbody tr th {\n",
       "        vertical-align: top;\n",
       "    }\n",
       "\n",
       "    .dataframe thead th {\n",
       "        text-align: right;\n",
       "    }\n",
       "</style>\n",
       "<table border=\"1\" class=\"dataframe\">\n",
       "  <thead>\n",
       "    <tr style=\"text-align: right;\">\n",
       "      <th></th>\n",
       "      <th>pub_date</th>\n",
       "      <th>title</th>\n",
       "      <th>venue</th>\n",
       "      <th>excerpt</th>\n",
       "      <th>citation</th>\n",
       "      <th>url_slug</th>\n",
       "      <th>paper_url</th>\n",
       "    </tr>\n",
       "  </thead>\n",
       "  <tbody>\n",
       "    <tr>\n",
       "      <th>0</th>\n",
       "      <td>9/1/2022</td>\n",
       "      <td>The Third Assessment of the Effects of Climate...</td>\n",
       "      <td>Report to U.S. Congress</td>\n",
       "      <td>This report evaluates the effects of climate c...</td>\n",
       "      <td>Kao, Shih-Chieh, Ashfaq, Moetasim, Rastogi, De...</td>\n",
       "      <td>9505v3</td>\n",
       "      <td>https://doi.org/10.2172/1887712</td>\n",
       "    </tr>\n",
       "  </tbody>\n",
       "</table>\n",
       "</div>"
      ],
      "text/plain": [
       "   pub_date                                              title  \\\n",
       "0  9/1/2022  The Third Assessment of the Effects of Climate...   \n",
       "\n",
       "                     venue                                            excerpt  \\\n",
       "0  Report to U.S. Congress  This report evaluates the effects of climate c...   \n",
       "\n",
       "                                            citation url_slug  \\\n",
       "0  Kao, Shih-Chieh, Ashfaq, Moetasim, Rastogi, De...   9505v3   \n",
       "\n",
       "                         paper_url  \n",
       "0  https://doi.org/10.2172/1887712  "
      ]
     },
     "execution_count": 11,
     "metadata": {},
     "output_type": "execute_result"
    }
   ],
   "source": [
    "publications = pd.read_csv(\"add_new_pub_here.csv\", sep=\",\", header=0)\n",
    "publications\n"
   ]
  },
  {
   "cell_type": "markdown",
   "metadata": {},
   "source": [
    "## Escape special characters\n",
    "\n",
    "YAML is very picky about how it takes a valid string, so we are replacing single and double quotes (and ampersands) with their HTML encoded equivilents. This makes them look not so readable in raw format, but they are parsed and rendered nicely."
   ]
  },
  {
   "cell_type": "code",
   "execution_count": 12,
   "metadata": {},
   "outputs": [],
   "source": [
    "html_escape_table = {\n",
    "    \"&\": \"&amp;\",\n",
    "    '\"': \"&quot;\",\n",
    "    \"'\": \"&apos;\"\n",
    "    }\n",
    "\n",
    "def html_escape(text):\n",
    "    \"\"\"Produce entities within text.\"\"\"\n",
    "    return \"\".join(html_escape_table.get(c,c) for c in text)"
   ]
  },
  {
   "cell_type": "markdown",
   "metadata": {},
   "source": [
    "## Creating the markdown files\n",
    "\n",
    "This is where the heavy lifting is done. This loops through all the rows in the TSV dataframe, then starts to concatentate a big string (```md```) that contains the markdown for each type. It does the YAML metadata first, then does the description for the individual page."
   ]
  },
  {
   "cell_type": "code",
   "execution_count": 17,
   "metadata": {},
   "outputs": [],
   "source": [
    "import os\n",
    "for row, item in publications.iterrows():\n",
    "    \n",
    "    year = item.pub_date[4:8]\n",
    "    md_filename = str(year) + \"-\" + item.url_slug + \".md\"\n",
    "    html_filename = str(year) + \"-\" + item.url_slug\n",
    "        \n",
    "    ## YAML variables\n",
    "    \n",
    "    md = \"---\\ntitle: \\\"\"   + item.title + '\"\\n'\n",
    "    \n",
    "    md += \"\"\"collection: publications\"\"\"\n",
    "    \n",
    "    md += \"\"\"\\npermalink: /publication/\"\"\" + html_filename\n",
    "    \n",
    "    if len(str(item.excerpt)) > 5:\n",
    "        md += \"\\nexcerpt: '\" + html_escape(item.excerpt) + \"'\"\n",
    "    \n",
    "    md += \"\\ndate: \" + str(item.pub_date) \n",
    "    \n",
    "    md += \"\\nvenue: '\" + html_escape(item.venue) + \"'\"\n",
    "    \n",
    "    if len(str(item.paper_url)) > 5:\n",
    "        md += \"\\npaperurl: '\" + item.paper_url + \"'\"\n",
    "    \n",
    "    md += \"\\ncitation: '\" + html_escape(item.citation) + \"'\"\n",
    "    \n",
    "    md += \"\\n---\"\n",
    "    \n",
    "    ## Markdown description for individual page\n",
    "        \n",
    "    if len(str(item.excerpt)) > 5:\n",
    "        md += \"\\n\" + html_escape(item.excerpt) + \"\\n\"\n",
    "    \n",
    "    if len(str(item.paper_url)) > 5:\n",
    "        md += \"\\n[Link to the paper](\" + item.paper_url + \")\\n\" \n",
    "    \n",
    "    md += \"\\n![image](../images/papers/\" + str(year) + \"-\" + item.url_slug + \".png)\\n\"\n",
    "    \n",
    "    md += \"\\nRecommended citation: \" + item.citation\n",
    "    \n",
    "    md_filename = os.path.basename(md_filename)\n",
    "       \n",
    "    with open(\"../_publications/\" + md_filename, 'w') as f:\n",
    "        f.write(md)\n",
    "        \n",
    "    item.pub_date"
   ]
  },
  {
   "cell_type": "code",
   "execution_count": 18,
   "metadata": {},
   "outputs": [
    {
     "data": {
      "text/plain": [
       "'2022'"
      ]
     },
     "execution_count": 18,
     "metadata": {},
     "output_type": "execute_result"
    }
   ],
   "source": [
    "item.pub_date[4:8]"
   ]
  },
  {
   "cell_type": "markdown",
   "metadata": {},
   "source": [
    "These files are in the publications directory, one directory below where we're working from."
   ]
  },
  {
   "cell_type": "code",
   "execution_count": 15,
   "metadata": {},
   "outputs": [
    {
     "name": "stderr",
     "output_type": "stream",
     "text": [
      "'ls' is not recognized as an internal or external command,\n",
      "operable program or batch file.\n"
     ]
    }
   ],
   "source": [
    "!ls ../_publications/"
   ]
  },
  {
   "cell_type": "code",
   "execution_count": 16,
   "metadata": {},
   "outputs": [
    {
     "name": "stderr",
     "output_type": "stream",
     "text": [
      "'cat' is not recognized as an internal or external command,\n",
      "operable program or batch file.\n"
     ]
    }
   ],
   "source": [
    "!cat ../_publications/2009-10-01-paper-title-number-1.md"
   ]
  },
  {
   "cell_type": "code",
   "execution_count": null,
   "metadata": {},
   "outputs": [],
   "source": []
  },
  {
   "cell_type": "code",
   "execution_count": null,
   "metadata": {},
   "outputs": [],
   "source": []
  }
 ],
 "metadata": {
  "kernelspec": {
   "display_name": "Python 3 (ipykernel)",
   "language": "python",
   "name": "python3"
  },
  "language_info": {
   "codemirror_mode": {
    "name": "ipython",
    "version": 3
   },
   "file_extension": ".py",
   "mimetype": "text/x-python",
   "name": "python",
   "nbconvert_exporter": "python",
   "pygments_lexer": "ipython3",
   "version": "3.10.11"
  }
 },
 "nbformat": 4,
 "nbformat_minor": 4
}
