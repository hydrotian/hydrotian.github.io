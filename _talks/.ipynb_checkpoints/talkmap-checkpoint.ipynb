{
 "cells": [
  {
   "cell_type": "markdown",
   "metadata": {},
   "source": [
    "# Leaflet cluster map of talk locations\n",
    "\n",
    "Run this from the _talks/ directory, which contains .md files of all your talks. This scrapes the location YAML field from each .md file, geolocates it with geopy/Nominatim, and uses the getorg library to output data, HTML, and Javascript for a standalone cluster map."
   ]
  },
  {
   "cell_type": "code",
   "execution_count": 1,
   "metadata": {},
   "outputs": [
    {
     "name": "stdout",
     "output_type": "stream",
     "text": [
      "Requirement already up-to-date: getorg in c:\\users\\zhou014\\appdata\\local\\continuum\\anaconda2\\lib\\site-packages\n",
      "Requirement already up-to-date: retrying in c:\\users\\zhou014\\appdata\\local\\continuum\\anaconda2\\lib\\site-packages (from getorg)\n",
      "Requirement already up-to-date: geopy in c:\\users\\zhou014\\appdata\\local\\continuum\\anaconda2\\lib\\site-packages (from getorg)\n",
      "Requirement already up-to-date: pygithub in c:\\users\\zhou014\\appdata\\local\\continuum\\anaconda2\\lib\\site-packages (from getorg)\n",
      "Requirement already up-to-date: six>=1.7.0 in c:\\users\\zhou014\\appdata\\local\\continuum\\anaconda2\\lib\\site-packages (from retrying->getorg)\n",
      "Requirement already up-to-date: geographiclib<2,>=1.49 in c:\\users\\zhou014\\appdata\\local\\continuum\\anaconda2\\lib\\site-packages (from geopy->getorg)\n",
      "Requirement already up-to-date: deprecated in c:\\users\\zhou014\\appdata\\local\\continuum\\anaconda2\\lib\\site-packages (from pygithub->getorg)\n",
      "Requirement already up-to-date: pyjwt in c:\\users\\zhou014\\appdata\\local\\continuum\\anaconda2\\lib\\site-packages (from pygithub->getorg)\n",
      "Requirement already up-to-date: requests>=2.14.0 in c:\\users\\zhou014\\appdata\\local\\continuum\\anaconda2\\lib\\site-packages (from pygithub->getorg)\n",
      "Requirement already up-to-date: wrapt<2,>=1.10 in c:\\users\\zhou014\\appdata\\local\\continuum\\anaconda2\\lib\\site-packages (from deprecated->pygithub->getorg)\n",
      "Requirement already up-to-date: idna<2.9,>=2.5 in c:\\users\\zhou014\\appdata\\local\\continuum\\anaconda2\\lib\\site-packages (from requests>=2.14.0->pygithub->getorg)\n",
      "Requirement already up-to-date: chardet<3.1.0,>=3.0.2 in c:\\users\\zhou014\\appdata\\local\\continuum\\anaconda2\\lib\\site-packages (from requests>=2.14.0->pygithub->getorg)\n",
      "Requirement already up-to-date: certifi>=2017.4.17 in c:\\users\\zhou014\\appdata\\local\\continuum\\anaconda2\\lib\\site-packages (from requests>=2.14.0->pygithub->getorg)\n",
      "Requirement already up-to-date: urllib3!=1.25.0,!=1.25.1,<1.26,>=1.21.1 in c:\\users\\zhou014\\appdata\\local\\continuum\\anaconda2\\lib\\site-packages (from requests>=2.14.0->pygithub->getorg)\n"
     ]
    },
    {
     "name": "stderr",
     "output_type": "stream",
     "text": [
      "You are using pip version 9.0.1, however version 19.3.1 is available.\n",
      "You should consider upgrading via the 'python -m pip install --upgrade pip' command.\n"
     ]
    },
    {
     "name": "stdout",
     "output_type": "stream",
     "text": [
      "Iywidgets and ipyleaflet support disabled. You must be in a Jupyter notebook to use this feature.\n",
      "Error raised:\n",
      "No module named ipyleaflet\n",
      "Check that you have enabled ipyleaflet in Jupyter with:\n",
      "    jupyter nbextension enable --py ipyleaflet\n"
     ]
    }
   ],
   "source": [
    "!pip install getorg --upgrade\n",
    "import glob\n",
    "import getorg\n",
    "from geopy import Nominatim"
   ]
  },
  {
   "cell_type": "code",
   "execution_count": 2,
   "metadata": {},
   "outputs": [],
   "source": [
    "g = glob.glob(\"*.md\")"
   ]
  },
  {
   "cell_type": "code",
   "execution_count": 3,
   "metadata": {},
   "outputs": [
    {
     "name": "stderr",
     "output_type": "stream",
     "text": [
      "C:\\Users\\zhou014\\AppData\\Local\\Continuum\\anaconda2\\lib\\site-packages\\ipykernel_launcher.py:1: DeprecationWarning: Using Nominatim with the default \"geopy/1.20.0\" `user_agent` is strongly discouraged, as it violates Nominatim's ToS https://operations.osmfoundation.org/policies/nominatim/ and may possibly cause 403 and 429 HTTP errors. Please specify a custom `user_agent` with `Nominatim(user_agent=\"my-application\")` or by overriding the default `user_agent`: `geopy.geocoders.options.default_user_agent = \"my-application\"`. In geopy 2.0 this will become an exception.\n",
      "  \"\"\"Entry point for launching an IPython kernel.\n"
     ]
    }
   ],
   "source": [
    "geocoder = Nominatim()\n",
    "location_dict = {}\n",
    "location = \"\"\n",
    "permalink = \"\"\n",
    "title = \"\""
   ]
  },
  {
   "cell_type": "code",
   "execution_count": 4,
   "metadata": {},
   "outputs": [
    {
     "name": "stdout",
     "output_type": "stream",
     "text": [
      "('San Francisco, California', '\\n', Location((37.7792808, -122.4192363, 0.0)))\n",
      "('Berkeley CA, USA', '\\n', Location((37.8708393, -122.2728639, 0.0)))\n",
      "('London, UK', '\\n', Location((51.5073219, -0.1276474, 0.0)))\n",
      "('Los Angeles, CA', '\\n', Location((34.0536909, -118.2427666, 0.0)))\n"
     ]
    }
   ],
   "source": [
    "\n",
    "for file in g:\n",
    "    with open(file, 'r') as f:\n",
    "        lines = f.read()\n",
    "        if lines.find('location: \"') > 1:\n",
    "            loc_start = lines.find('location: \"') + 11\n",
    "            lines_trim = lines[loc_start:]\n",
    "            loc_end = lines_trim.find('\"')\n",
    "            location = lines_trim[:loc_end]\n",
    "                            \n",
    "           \n",
    "        location_dict[location] = geocoder.geocode(location)\n",
    "        print(location, \"\\n\", location_dict[location])\n"
   ]
  },
  {
   "cell_type": "code",
   "execution_count": 5,
   "metadata": {},
   "outputs": [
    {
     "data": {
      "text/plain": [
       "'Written map to ../talkmap/'"
      ]
     },
     "execution_count": 5,
     "metadata": {},
     "output_type": "execute_result"
    }
   ],
   "source": [
    "m = getorg.orgmap.create_map_obj()\n",
    "getorg.orgmap.output_html_cluster_map(location_dict, folder_name=\"../talkmap\", hashed_usernames=False)"
   ]
  },
  {
   "cell_type": "code",
   "execution_count": null,
   "metadata": {
    "collapsed": true
   },
   "outputs": [],
   "source": []
  }
 ],
 "metadata": {
  "anaconda-cloud": {},
  "kernelspec": {
   "display_name": "Python 2",
   "language": "python",
   "name": "python2"
  },
  "language_info": {
   "codemirror_mode": {
    "name": "ipython",
    "version": 2
   },
   "file_extension": ".py",
   "mimetype": "text/x-python",
   "name": "python",
   "nbconvert_exporter": "python",
   "pygments_lexer": "ipython2",
   "version": "2.7.14"
  }
 },
 "nbformat": 4,
 "nbformat_minor": 1
}
